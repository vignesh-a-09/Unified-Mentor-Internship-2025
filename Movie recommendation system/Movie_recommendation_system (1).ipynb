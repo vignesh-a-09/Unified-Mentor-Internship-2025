{
  "nbformat": 4,
  "nbformat_minor": 0,
  "metadata": {
    "colab": {
      "provenance": []
    },
    "kernelspec": {
      "name": "python3",
      "display_name": "Python 3"
    },
    "language_info": {
      "name": "python"
    }
  },
  "cells": [
    {
      "cell_type": "code",
      "execution_count": 1,
      "metadata": {
        "colab": {
          "base_uri": "https://localhost:8080/"
        },
        "id": "GO9HOdr0FCRF",
        "outputId": "32fe8d6c-11ff-4e49-aa26-0567905870d9"
      },
      "outputs": [
        {
          "output_type": "stream",
          "name": "stdout",
          "text": [
            "Requirement already satisfied: scikit-learn in /usr/local/lib/python3.11/dist-packages (1.6.1)\n",
            "Requirement already satisfied: numpy>=1.19.5 in /usr/local/lib/python3.11/dist-packages (from scikit-learn) (2.0.2)\n",
            "Requirement already satisfied: scipy>=1.6.0 in /usr/local/lib/python3.11/dist-packages (from scikit-learn) (1.14.1)\n",
            "Requirement already satisfied: joblib>=1.2.0 in /usr/local/lib/python3.11/dist-packages (from scikit-learn) (1.4.2)\n",
            "Requirement already satisfied: threadpoolctl>=3.1.0 in /usr/local/lib/python3.11/dist-packages (from scikit-learn) (3.6.0)\n"
          ]
        }
      ],
      "source": [
        "!pip install scikit-learn"
      ]
    },
    {
      "cell_type": "code",
      "source": [
        "import pandas as pd\n",
        "from sklearn.metrics.pairwise import cosine_similarity\n",
        "from sklearn.preprocessing import StandardScaler\n",
        "import matplotlib.pyplot as plt\n",
        "import seaborn as sns"
      ],
      "metadata": {
        "id": "8KGFlTmxFGI3"
      },
      "execution_count": 2,
      "outputs": []
    },
    {
      "cell_type": "code",
      "source": [
        "movies = pd.read_csv(\"/content/movies_metadata.csv\")\n",
        "ratings = pd.read_csv(\"/content/ratings_small.csv\")\n",
        "\n",
        "print(movies.head())\n",
        "print(ratings.head())\n"
      ],
      "metadata": {
        "colab": {
          "base_uri": "https://localhost:8080/"
        },
        "id": "8mSG8INWFRhv",
        "outputId": "e18843e2-c194-4b1e-ca29-45c7abbb8e03"
      },
      "execution_count": 4,
      "outputs": [
        {
          "output_type": "stream",
          "name": "stdout",
          "text": [
            "   adult                              belongs_to_collection    budget  \\\n",
            "0  False  {'id': 10194, 'name': 'Toy Story Collection', ...  30000000   \n",
            "1  False                                                NaN  65000000   \n",
            "2  False  {'id': 119050, 'name': 'Grumpy Old Men Collect...         0   \n",
            "3  False                                                NaN  16000000   \n",
            "4  False  {'id': 96871, 'name': 'Father of the Bride Col...         0   \n",
            "\n",
            "                                              genres  \\\n",
            "0  [{'id': 16, 'name': 'Animation'}, {'id': 35, '...   \n",
            "1  [{'id': 12, 'name': 'Adventure'}, {'id': 14, '...   \n",
            "2  [{'id': 10749, 'name': 'Romance'}, {'id': 35, ...   \n",
            "3  [{'id': 35, 'name': 'Comedy'}, {'id': 18, 'nam...   \n",
            "4                     [{'id': 35, 'name': 'Comedy'}]   \n",
            "\n",
            "                               homepage     id    imdb_id original_language  \\\n",
            "0  http://toystory.disney.com/toy-story    862  tt0114709                en   \n",
            "1                                   NaN   8844  tt0113497                en   \n",
            "2                                   NaN  15602  tt0113228                en   \n",
            "3                                   NaN  31357  tt0114885                en   \n",
            "4                                   NaN  11862  tt0113041                en   \n",
            "\n",
            "                original_title  \\\n",
            "0                    Toy Story   \n",
            "1                      Jumanji   \n",
            "2             Grumpier Old Men   \n",
            "3            Waiting to Exhale   \n",
            "4  Father of the Bride Part II   \n",
            "\n",
            "                                            overview  ... release_date  \\\n",
            "0  Led by Woody, Andy's toys live happily in his ...  ...   1995-10-30   \n",
            "1  When siblings Judy and Peter discover an encha...  ...   1995-12-15   \n",
            "2  A family wedding reignites the ancient feud be...  ...   1995-12-22   \n",
            "3  Cheated on, mistreated and stepped on, the wom...  ...   1995-12-22   \n",
            "4  Just when George Banks has recovered from his ...  ...   1995-02-10   \n",
            "\n",
            "       revenue runtime                                   spoken_languages  \\\n",
            "0  373554033.0    81.0           [{'iso_639_1': 'en', 'name': 'English'}]   \n",
            "1  262797249.0   104.0  [{'iso_639_1': 'en', 'name': 'English'}, {'iso...   \n",
            "2          0.0   101.0           [{'iso_639_1': 'en', 'name': 'English'}]   \n",
            "3   81452156.0   127.0           [{'iso_639_1': 'en', 'name': 'English'}]   \n",
            "4   76578911.0   106.0           [{'iso_639_1': 'en', 'name': 'English'}]   \n",
            "\n",
            "     status                                            tagline  \\\n",
            "0  Released                                                NaN   \n",
            "1  Released          Roll the dice and unleash the excitement!   \n",
            "2  Released  Still Yelling. Still Fighting. Still Ready for...   \n",
            "3  Released  Friends are the people who let you be yourself...   \n",
            "4  Released  Just When His World Is Back To Normal... He's ...   \n",
            "\n",
            "                         title  video vote_average vote_count  \n",
            "0                    Toy Story  False          7.7     5415.0  \n",
            "1                      Jumanji  False          6.9     2413.0  \n",
            "2             Grumpier Old Men  False          6.5       92.0  \n",
            "3            Waiting to Exhale  False          6.1       34.0  \n",
            "4  Father of the Bride Part II  False          5.7      173.0  \n",
            "\n",
            "[5 rows x 24 columns]\n",
            "   userId  movieId  rating   timestamp\n",
            "0       1       31     2.5  1260759144\n",
            "1       1     1029     3.0  1260759179\n",
            "2       1     1061     3.0  1260759182\n",
            "3       1     1129     2.0  1260759185\n",
            "4       1     1172     4.0  1260759205\n"
          ]
        },
        {
          "output_type": "stream",
          "name": "stderr",
          "text": [
            "<ipython-input-4-fa3d333c00ed>:1: DtypeWarning: Columns (10) have mixed types. Specify dtype option on import or set low_memory=False.\n",
            "  movies = pd.read_csv(\"/content/movies_metadata.csv\")\n"
          ]
        }
      ]
    },
    {
      "cell_type": "code",
      "source": [
        "# Basic stats\n",
        "print(ratings.describe())\n",
        "\n",
        "# Histogram of ratings\n",
        "ratings['rating'].hist(bins=30)\n",
        "plt.title('Distribution of Movie Ratings')\n",
        "plt.xlabel('Rating')\n",
        "plt.ylabel('Count')\n",
        "plt.show()\n",
        "\n",
        "# Ratings count per movie\n",
        "ratings_per_movie = ratings.groupby('movieId').count()['rating']\n",
        "ratings_per_movie.hist(bins=50)\n",
        "plt.title('Number of Ratings per Movie')\n",
        "plt.xlabel('Number of Ratings')\n",
        "plt.ylabel('Count')\n",
        "plt.show()\n"
      ],
      "metadata": {
        "colab": {
          "base_uri": "https://localhost:8080/",
          "height": 1000
        },
        "id": "XM_AzvLeFZX3",
        "outputId": "b28d3a18-df52-412c-ba2c-dba9b9a5aacc"
      },
      "execution_count": 5,
      "outputs": [
        {
          "output_type": "stream",
          "name": "stdout",
          "text": [
            "              userId        movieId         rating     timestamp\n",
            "count  100004.000000  100004.000000  100004.000000  1.000040e+05\n",
            "mean      347.011310   12548.664363       3.543608  1.129639e+09\n",
            "std       195.163838   26369.198969       1.058064  1.916858e+08\n",
            "min         1.000000       1.000000       0.500000  7.896520e+08\n",
            "25%       182.000000    1028.000000       3.000000  9.658478e+08\n",
            "50%       367.000000    2406.500000       4.000000  1.110422e+09\n",
            "75%       520.000000    5418.000000       4.000000  1.296192e+09\n",
            "max       671.000000  163949.000000       5.000000  1.476641e+09\n"
          ]
        },
        {
          "output_type": "display_data",
          "data": {
            "text/plain": [
              "<Figure size 640x480 with 1 Axes>"
            ],
            "image/png": "[encoded data removed]"
          },
          "metadata": {}
        },
        {
          "output_type": "display_data",
          "data": {
            "text/plain": [
              "<Figure size 640x480 with 1 Axes>"
            ],
            "image/png": "[encoded data removed]"
          },
          "metadata": {}
        }
      ]
    },
    {
      "cell_type": "code",
      "source": [
        "# Create user-movie matrix\n",
        "user_movie_matrix = ratings.pivot_table(index='userId', columns='movieId', values='rating').fillna(0)\n"
      ],
      "metadata": {
        "id": "o1PDEo5SF99m"
      },
      "execution_count": 6,
      "outputs": []
    },
    {
      "cell_type": "code",
      "source": [
        "# Normalize data\n",
        "scaler = StandardScaler()\n",
        "user_movie_matrix_scaled = scaler.fit_transform(user_movie_matrix)\n",
        "\n",
        "# Compute cosine similarity\n",
        "user_similarity_df = pd.DataFrame(\n",
        "    cosine_similarity(user_movie_matrix_scaled),\n",
        "    index=user_movie_matrix.index,\n",
        "    columns=user_movie_matrix.index\n",
        ")\n"
      ],
      "metadata": {
        "id": "6zwFBtKRGAxY"
      },
      "execution_count": 7,
      "outputs": []
    },
    {
      "cell_type": "code",
      "source": [
        "def get_similar_users(user_id, n=5):\n",
        "    return user_similarity_df[user_id].sort_values(ascending=False)[1:n+1].index\n",
        "\n",
        "def recommend_movies(user_id, num_recommendations=5):\n",
        "    similar_users = get_similar_users(user_id)\n",
        "    similar_users_ratings = ratings[ratings['userId'].isin(similar_users)]\n",
        "    user_movies = ratings[ratings['userId'] == user_id]['movieId'].tolist()\n",
        "\n",
        "    recommended_movies = (\n",
        "        similar_users_ratings[~similar_users_ratings['movieId'].isin(user_movies)]\n",
        "        .groupby('movieId')\n",
        "        .agg({'rating': 'mean'})\n",
        "        .sort_values(by='rating', ascending=False)\n",
        "        .head(num_recommendations)\n",
        "        .reset_index()\n",
        "    )\n",
        "\n",
        "    return pd.merge(recommended_movies, movies, on='movieId')[['title', 'rating']]\n"
      ],
      "metadata": {
        "id": "VocncPc5GCOG"
      },
      "execution_count": 8,
      "outputs": []
    },
    {
      "cell_type": "code",
      "source": [
        "recommendations = recommend_movies(user_id=1, num_recommendations=10)\n",
        "print(recommendations)\n"
      ],
      "metadata": {
        "colab": {
          "base_uri": "https://localhost:8080/"
        },
        "id": "M841srFuGNr2",
        "outputId": "6bac5ba6-3f1e-4654-f986-25eabd0b5027"
      },
      "execution_count": 13,
      "outputs": [
        {
          "output_type": "stream",
          "name": "stdout",
          "text": [
            "                                title  rating\n",
            "0                             Solaris     5.0\n",
            "1  Terminator 3: Rise of the Machines     5.0\n",
            "2                Sleepless in Seattle     5.0\n",
            "3            Torrente 3 The Protector     4.5\n",
            "4                    Live and Let Die     4.0\n",
            "5                       Jurassic Park     4.0\n",
            "6                      Ocean's Eleven     4.0\n",
            "7                             48 Hrs.     4.0\n"
          ]
        }
      ]
    },
    {
      "cell_type": "code",
      "source": [
        "print(movies.columns)\n"
      ],
      "metadata": {
        "colab": {
          "base_uri": "https://localhost:8080/"
        },
        "id": "retsbCe-GPhu",
        "outputId": "9d24d407-e04d-45f5-d8d3-7ff2a6954ac4"
      },
      "execution_count": 10,
      "outputs": [
        {
          "output_type": "stream",
          "name": "stdout",
          "text": [
            "Index(['adult', 'belongs_to_collection', 'budget', 'genres', 'homepage', 'id',\n",
            "       'imdb_id', 'original_language', 'original_title', 'overview',\n",
            "       'popularity', 'poster_path', 'production_companies',\n",
            "       'production_countries', 'release_date', 'revenue', 'runtime',\n",
            "       'spoken_languages', 'status', 'tagline', 'title', 'video',\n",
            "       'vote_average', 'vote_count'],\n",
            "      dtype='object')\n"
          ]
        }
      ]
    },
    {
      "cell_type": "code",
      "source": [
        "movies.rename(columns={'id': 'movieId'}, inplace=True)\n"
      ],
      "metadata": {
        "id": "Fq999kLiGxCn"
      },
      "execution_count": 11,
      "outputs": []
    },
    {
      "cell_type": "code",
      "source": [
        "movies['movieId'] = pd.to_numeric(movies['movieId'], errors='coerce')\n"
      ],
      "metadata": {
        "id": "KX3NetMQHdwf"
      },
      "execution_count": 12,
      "outputs": []
    },
    {
      "cell_type": "code",
      "source": [
        "from flask import Flask, request, jsonify\n",
        "\n",
        "app = Flask(__name__)\n",
        "\n",
        "@app.route('/recommend', methods=['POST'])\n",
        "def recommend():\n",
        "    data = request.get_json(force=True)\n",
        "    user_id = data['user_id']\n",
        "    num_recommendations = data.get('num_recommendations', 10)\n",
        "\n",
        "    recommendations = recommend_movies(user_id, num_recommendations)\n",
        "\n",
        "    return jsonify(recommendations.to_dict(orient='records'))\n",
        "\n",
        "if __name__ == '__main__':\n",
        "    app.run(debug=True)\n"
      ],
      "metadata": {
        "colab": {
          "base_uri": "https://localhost:8080/"
        },
        "id": "4-jScFXgHfi-",
        "outputId": "3489040b-5991-4046-8212-71496d8c766e"
      },
      "execution_count": 15,
      "outputs": [
        {
          "output_type": "stream",
          "name": "stdout",
          "text": [
            " * Serving Flask app '__main__'\n",
            " * Debug mode: on\n"
          ]
        },
        {
          "output_type": "stream",
          "name": "stderr",
          "text": [
            "INFO:werkzeug:\u001b[31m\u001b[1mWARNING: This is a development server. Do not use it in a production deployment. Use a production WSGI server instead.\u001b[0m\n",
            " * Running on http://127.0.0.1:5000\n",
            "INFO:werkzeug:\u001b[33mPress CTRL+C to quit\u001b[0m\n",
            "INFO:werkzeug: * Restarting with stat\n"
          ]
        }
      ]
    },
    {
      "cell_type": "code",
      "source": [],
      "metadata": {
        "id": "Sj2RdSOIHwFF"
      },
      "execution_count": null,
      "outputs": []
    }
  ]
}